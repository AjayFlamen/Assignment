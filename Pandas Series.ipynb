{
 "cells": [
  {
   "cell_type": "markdown",
   "id": "c111fec4",
   "metadata": {},
   "source": [
    "## creating Pandas series"
   ]
  },
  {
   "cell_type": "code",
   "execution_count": 3,
   "id": "92d26b97",
   "metadata": {},
   "outputs": [
    {
     "name": "stdout",
     "output_type": "stream",
     "text": [
      "0    N\n",
      "1    a\n",
      "2    r\n",
      "3    u\n",
      "4    t\n",
      "5    o\n",
      "dtype: object\n",
      "0    U\n",
      "1    z\n",
      "2    u\n",
      "3    m\n",
      "4    a\n",
      "5    k\n",
      "6    i\n",
      "dtype: object\n"
     ]
    }
   ],
   "source": [
    "# Creating a series from array\n",
    "import pandas as pd\n",
    "import numpy as np\n",
    "data = np.array(['N','a','r','u','t','o']) \n",
    "ser = pd.Series(data)\n",
    "print(ser)\n",
    "# Creating a series from Lists\n",
    "list = ['U', 'z', 'u', 'm', 'a','k','i']\n",
    "ser = pd.Series(list)\n",
    "print(ser)"
   ]
  },
  {
   "cell_type": "markdown",
   "id": "0e8744ba",
   "metadata": {},
   "source": [
    "## Accessing elements"
   ]
  },
  {
   "cell_type": "code",
   "execution_count": 6,
   "id": "766c0835",
   "metadata": {},
   "outputs": [
    {
     "name": "stdout",
     "output_type": "stream",
     "text": [
      "0    N\n",
      "1    a\n",
      "2    r\n",
      "3    u\n",
      "4    t\n",
      "5    o\n",
      "dtype: object\n",
      "6     U\n",
      "7     z\n",
      "8     u\n",
      "9     m\n",
      "10    a\n",
      "11    k\n",
      "12    i\n",
      "dtype: object\n",
      "u\n",
      "0    N\n",
      "6    U\n",
      "dtype: object\n"
     ]
    }
   ],
   "source": [
    "import pandas as pd\n",
    "import numpy as np\n",
    " \n",
    "data = np.array(['N','a','r','u','t','o','U', 'z', 'u', 'm', 'a','k','i']) \n",
    "ser = pd.Series(data)  \n",
    "#retrieve the first 6 element\n",
    "print(ser[:6])\n",
    "print(ser[6:])\n",
    "# accessing a element using index element\n",
    "print(ser[3])\n",
    "# accessing two different element using index element\n",
    "print(ser[[0,6]])"
   ]
  },
  {
   "cell_type": "markdown",
   "id": "3b6ed545",
   "metadata": {},
   "source": [
    "## Import cvs files using read_cvs()"
   ]
  },
  {
   "cell_type": "markdown",
   "id": "6decf270",
   "metadata": {},
   "source": [
    "#### My cvs file is in c folder\n",
    "#### to know your current directory use pwd command\n"
   ]
  },
  {
   "cell_type": "code",
   "execution_count": 36,
   "id": "1348d364",
   "metadata": {},
   "outputs": [
    {
     "data": {
      "text/plain": [
       "'C:\\\\Users\\\\Admin'"
      ]
     },
     "execution_count": 36,
     "metadata": {},
     "output_type": "execute_result"
    }
   ],
   "source": [
    "pwd"
   ]
  },
  {
   "cell_type": "markdown",
   "id": "ada1c500",
   "metadata": {},
   "source": [
    "#### to change the directory use s cd command "
   ]
  },
  {
   "cell_type": "code",
   "execution_count": 37,
   "id": "74906d5c",
   "metadata": {
    "scrolled": true
   },
   "outputs": [
    {
     "name": "stdout",
     "output_type": "stream",
     "text": [
      "C:\\\n"
     ]
    }
   ],
   "source": [
    "cd C:\\\\"
   ]
  },
  {
   "cell_type": "code",
   "execution_count": 55,
   "id": "1ee3a3ef",
   "metadata": {},
   "outputs": [],
   "source": [
    "import pandas as pd"
   ]
  },
  {
   "cell_type": "code",
   "execution_count": 70,
   "id": "048dd69c",
   "metadata": {},
   "outputs": [],
   "source": [
    "cvs = pd.read_csv(\"Olympics.csv\")  # filename.cvs"
   ]
  },
  {
   "cell_type": "code",
   "execution_count": 72,
   "id": "248761ff",
   "metadata": {},
   "outputs": [
    {
     "data": {
      "text/html": [
       "<div>\n",
       "<style scoped>\n",
       "    .dataframe tbody tr th:only-of-type {\n",
       "        vertical-align: middle;\n",
       "    }\n",
       "\n",
       "    .dataframe tbody tr th {\n",
       "        vertical-align: top;\n",
       "    }\n",
       "\n",
       "    .dataframe thead th {\n",
       "        text-align: right;\n",
       "    }\n",
       "</style>\n",
       "<table border=\"1\" class=\"dataframe\">\n",
       "  <thead>\n",
       "    <tr style=\"text-align: right;\">\n",
       "      <th></th>\n",
       "      <th>Gender</th>\n",
       "      <th>Event</th>\n",
       "      <th>venues</th>\n",
       "      <th>Year</th>\n",
       "      <th>Medal</th>\n",
       "      <th>Name</th>\n",
       "      <th>Country</th>\n",
       "      <th>Time</th>\n",
       "    </tr>\n",
       "  </thead>\n",
       "  <tbody>\n",
       "    <tr>\n",
       "      <th>0</th>\n",
       "      <td>M</td>\n",
       "      <td>100M Men</td>\n",
       "      <td>Sydney</td>\n",
       "      <td>2000</td>\n",
       "      <td>G</td>\n",
       "      <td>Maurice GREENE</td>\n",
       "      <td>USA</td>\n",
       "      <td>9.87</td>\n",
       "    </tr>\n",
       "    <tr>\n",
       "      <th>1</th>\n",
       "      <td>M</td>\n",
       "      <td>100M Men</td>\n",
       "      <td>Sydney</td>\n",
       "      <td>2000</td>\n",
       "      <td>S</td>\n",
       "      <td>Ato BOLDON</td>\n",
       "      <td>TTO</td>\n",
       "      <td>9.99</td>\n",
       "    </tr>\n",
       "    <tr>\n",
       "      <th>2</th>\n",
       "      <td>M</td>\n",
       "      <td>100M Men</td>\n",
       "      <td>Sydney</td>\n",
       "      <td>2000</td>\n",
       "      <td>B</td>\n",
       "      <td>Obadele THOMPSON</td>\n",
       "      <td>BAR</td>\n",
       "      <td>10.04</td>\n",
       "    </tr>\n",
       "    <tr>\n",
       "      <th>3</th>\n",
       "      <td>M</td>\n",
       "      <td>110M Hurdles Men</td>\n",
       "      <td>Sydney</td>\n",
       "      <td>2000</td>\n",
       "      <td>G</td>\n",
       "      <td>Anier GARCIA</td>\n",
       "      <td>CUB</td>\n",
       "      <td>13</td>\n",
       "    </tr>\n",
       "    <tr>\n",
       "      <th>4</th>\n",
       "      <td>M</td>\n",
       "      <td>110M Hurdles Men</td>\n",
       "      <td>Sydney</td>\n",
       "      <td>2000</td>\n",
       "      <td>S</td>\n",
       "      <td>Terrence TRAMMELL</td>\n",
       "      <td>USA</td>\n",
       "      <td>13.16</td>\n",
       "    </tr>\n",
       "    <tr>\n",
       "      <th>...</th>\n",
       "      <td>...</td>\n",
       "      <td>...</td>\n",
       "      <td>...</td>\n",
       "      <td>...</td>\n",
       "      <td>...</td>\n",
       "      <td>...</td>\n",
       "      <td>...</td>\n",
       "      <td>...</td>\n",
       "    </tr>\n",
       "    <tr>\n",
       "      <th>110</th>\n",
       "      <td>M</td>\n",
       "      <td>5000M Men</td>\n",
       "      <td>Rio</td>\n",
       "      <td>2016</td>\n",
       "      <td>S</td>\n",
       "      <td>Paul Kipkemoi CHELIMO</td>\n",
       "      <td>USA</td>\n",
       "      <td>13:03.9</td>\n",
       "    </tr>\n",
       "    <tr>\n",
       "      <th>111</th>\n",
       "      <td>M</td>\n",
       "      <td>5000M Men</td>\n",
       "      <td>Rio</td>\n",
       "      <td>2016</td>\n",
       "      <td>B</td>\n",
       "      <td>Hagos GEBRHIWET</td>\n",
       "      <td>ETH</td>\n",
       "      <td>13:04.3</td>\n",
       "    </tr>\n",
       "    <tr>\n",
       "      <th>112</th>\n",
       "      <td>M</td>\n",
       "      <td>Marathon Men</td>\n",
       "      <td>Rio</td>\n",
       "      <td>2016</td>\n",
       "      <td>G</td>\n",
       "      <td>Eliud Kipchoge ROTICH</td>\n",
       "      <td>KEN</td>\n",
       "      <td>2:08:44</td>\n",
       "    </tr>\n",
       "    <tr>\n",
       "      <th>113</th>\n",
       "      <td>M</td>\n",
       "      <td>Marathon Men</td>\n",
       "      <td>Rio</td>\n",
       "      <td>2016</td>\n",
       "      <td>S</td>\n",
       "      <td>Feyisa LILESA</td>\n",
       "      <td>ETH</td>\n",
       "      <td>2:09:54</td>\n",
       "    </tr>\n",
       "    <tr>\n",
       "      <th>114</th>\n",
       "      <td>M</td>\n",
       "      <td>Marathon Men</td>\n",
       "      <td>Rio</td>\n",
       "      <td>2016</td>\n",
       "      <td>B</td>\n",
       "      <td>Galen RUPP</td>\n",
       "      <td>USA</td>\n",
       "      <td>2:10:05</td>\n",
       "    </tr>\n",
       "  </tbody>\n",
       "</table>\n",
       "<p>115 rows × 8 columns</p>\n",
       "</div>"
      ],
      "text/plain": [
       "    Gender             Event  venues  Year Medal                   Name  \\\n",
       "0        M          100M Men  Sydney  2000     G         Maurice GREENE   \n",
       "1        M          100M Men  Sydney  2000     S             Ato BOLDON   \n",
       "2        M          100M Men  Sydney  2000     B       Obadele THOMPSON   \n",
       "3        M  110M Hurdles Men  Sydney  2000     G           Anier GARCIA   \n",
       "4        M  110M Hurdles Men  Sydney  2000     S      Terrence TRAMMELL   \n",
       "..     ...               ...     ...   ...   ...                    ...   \n",
       "110      M         5000M Men     Rio  2016     S  Paul Kipkemoi CHELIMO   \n",
       "111      M         5000M Men     Rio  2016     B        Hagos GEBRHIWET   \n",
       "112      M      Marathon Men     Rio  2016     G  Eliud Kipchoge ROTICH   \n",
       "113      M      Marathon Men     Rio  2016     S          Feyisa LILESA   \n",
       "114      M      Marathon Men     Rio  2016     B             Galen RUPP   \n",
       "\n",
       "    Country     Time  \n",
       "0       USA     9.87  \n",
       "1       TTO     9.99  \n",
       "2       BAR    10.04  \n",
       "3       CUB       13  \n",
       "4       USA    13.16  \n",
       "..      ...      ...  \n",
       "110     USA  13:03.9  \n",
       "111     ETH  13:04.3  \n",
       "112     KEN  2:08:44  \n",
       "113     ETH  2:09:54  \n",
       "114     USA  2:10:05  \n",
       "\n",
       "[115 rows x 8 columns]"
      ]
     },
     "execution_count": 72,
     "metadata": {},
     "output_type": "execute_result"
    }
   ],
   "source": [
    "cvs"
   ]
  },
  {
   "cell_type": "markdown",
   "id": "27292afb",
   "metadata": {},
   "source": [
    "## Indexing and Selecting Data in Series"
   ]
  },
  {
   "cell_type": "code",
   "execution_count": 73,
   "id": "cf14754e",
   "metadata": {},
   "outputs": [
    {
     "data": {
      "text/plain": [
       "0       Maurice GREENE\n",
       "1           Ato BOLDON\n",
       "2     Obadele THOMPSON\n",
       "3         Anier GARCIA\n",
       "4    Terrence TRAMMELL\n",
       "5           Mark CREAR\n",
       "6      Kostas KENTERIS\n",
       "7      Darren CAMPBELL\n",
       "8           Ato BOLDON\n",
       "9      Michael JOHNSON\n",
       "Name: Name, dtype: object"
      ]
     },
     "execution_count": 73,
     "metadata": {},
     "output_type": "execute_result"
    }
   ],
   "source": [
    "import pandas as pd \n",
    "# ** Pandas Series is a one-dimensional labeled array\n",
    "# capable of holding dataof any type. **\n",
    "# making a series \n",
    "ser = pd.Series(cvs['Name'])\n",
    "data = ser.head(10) # first 10 rows under column \"Name\"\n",
    "data "
   ]
  },
  {
   "cell_type": "code",
   "execution_count": 74,
   "id": "f7cc1f16",
   "metadata": {},
   "outputs": [
    {
     "data": {
      "text/html": [
       "<div>\n",
       "<style scoped>\n",
       "    .dataframe tbody tr th:only-of-type {\n",
       "        vertical-align: middle;\n",
       "    }\n",
       "\n",
       "    .dataframe tbody tr th {\n",
       "        vertical-align: top;\n",
       "    }\n",
       "\n",
       "    .dataframe thead th {\n",
       "        text-align: right;\n",
       "    }\n",
       "</style>\n",
       "<table border=\"1\" class=\"dataframe\">\n",
       "  <thead>\n",
       "    <tr style=\"text-align: right;\">\n",
       "      <th></th>\n",
       "      <th>Gender</th>\n",
       "      <th>Event</th>\n",
       "      <th>venues</th>\n",
       "      <th>Year</th>\n",
       "      <th>Medal</th>\n",
       "      <th>Name</th>\n",
       "      <th>Country</th>\n",
       "      <th>Time</th>\n",
       "    </tr>\n",
       "  </thead>\n",
       "  <tbody>\n",
       "    <tr>\n",
       "      <th>0</th>\n",
       "      <td>M</td>\n",
       "      <td>100M Men</td>\n",
       "      <td>Sydney</td>\n",
       "      <td>2000</td>\n",
       "      <td>G</td>\n",
       "      <td>Maurice GREENE</td>\n",
       "      <td>USA</td>\n",
       "      <td>9.87</td>\n",
       "    </tr>\n",
       "    <tr>\n",
       "      <th>1</th>\n",
       "      <td>M</td>\n",
       "      <td>100M Men</td>\n",
       "      <td>Sydney</td>\n",
       "      <td>2000</td>\n",
       "      <td>S</td>\n",
       "      <td>Ato BOLDON</td>\n",
       "      <td>TTO</td>\n",
       "      <td>9.99</td>\n",
       "    </tr>\n",
       "    <tr>\n",
       "      <th>2</th>\n",
       "      <td>M</td>\n",
       "      <td>100M Men</td>\n",
       "      <td>Sydney</td>\n",
       "      <td>2000</td>\n",
       "      <td>B</td>\n",
       "      <td>Obadele THOMPSON</td>\n",
       "      <td>BAR</td>\n",
       "      <td>10.04</td>\n",
       "    </tr>\n",
       "    <tr>\n",
       "      <th>3</th>\n",
       "      <td>M</td>\n",
       "      <td>110M Hurdles Men</td>\n",
       "      <td>Sydney</td>\n",
       "      <td>2000</td>\n",
       "      <td>G</td>\n",
       "      <td>Anier GARCIA</td>\n",
       "      <td>CUB</td>\n",
       "      <td>13</td>\n",
       "    </tr>\n",
       "    <tr>\n",
       "      <th>4</th>\n",
       "      <td>M</td>\n",
       "      <td>110M Hurdles Men</td>\n",
       "      <td>Sydney</td>\n",
       "      <td>2000</td>\n",
       "      <td>S</td>\n",
       "      <td>Terrence TRAMMELL</td>\n",
       "      <td>USA</td>\n",
       "      <td>13.16</td>\n",
       "    </tr>\n",
       "    <tr>\n",
       "      <th>...</th>\n",
       "      <td>...</td>\n",
       "      <td>...</td>\n",
       "      <td>...</td>\n",
       "      <td>...</td>\n",
       "      <td>...</td>\n",
       "      <td>...</td>\n",
       "      <td>...</td>\n",
       "      <td>...</td>\n",
       "    </tr>\n",
       "    <tr>\n",
       "      <th>110</th>\n",
       "      <td>M</td>\n",
       "      <td>5000M Men</td>\n",
       "      <td>Rio</td>\n",
       "      <td>2016</td>\n",
       "      <td>S</td>\n",
       "      <td>Paul Kipkemoi CHELIMO</td>\n",
       "      <td>USA</td>\n",
       "      <td>13:03.9</td>\n",
       "    </tr>\n",
       "    <tr>\n",
       "      <th>111</th>\n",
       "      <td>M</td>\n",
       "      <td>5000M Men</td>\n",
       "      <td>Rio</td>\n",
       "      <td>2016</td>\n",
       "      <td>B</td>\n",
       "      <td>Hagos GEBRHIWET</td>\n",
       "      <td>ETH</td>\n",
       "      <td>13:04.3</td>\n",
       "    </tr>\n",
       "    <tr>\n",
       "      <th>112</th>\n",
       "      <td>M</td>\n",
       "      <td>Marathon Men</td>\n",
       "      <td>Rio</td>\n",
       "      <td>2016</td>\n",
       "      <td>G</td>\n",
       "      <td>Eliud Kipchoge ROTICH</td>\n",
       "      <td>KEN</td>\n",
       "      <td>2:08:44</td>\n",
       "    </tr>\n",
       "    <tr>\n",
       "      <th>113</th>\n",
       "      <td>M</td>\n",
       "      <td>Marathon Men</td>\n",
       "      <td>Rio</td>\n",
       "      <td>2016</td>\n",
       "      <td>S</td>\n",
       "      <td>Feyisa LILESA</td>\n",
       "      <td>ETH</td>\n",
       "      <td>2:09:54</td>\n",
       "    </tr>\n",
       "    <tr>\n",
       "      <th>114</th>\n",
       "      <td>M</td>\n",
       "      <td>Marathon Men</td>\n",
       "      <td>Rio</td>\n",
       "      <td>2016</td>\n",
       "      <td>B</td>\n",
       "      <td>Galen RUPP</td>\n",
       "      <td>USA</td>\n",
       "      <td>2:10:05</td>\n",
       "    </tr>\n",
       "  </tbody>\n",
       "</table>\n",
       "<p>115 rows × 8 columns</p>\n",
       "</div>"
      ],
      "text/plain": [
       "    Gender             Event  venues  Year Medal                   Name  \\\n",
       "0        M          100M Men  Sydney  2000     G         Maurice GREENE   \n",
       "1        M          100M Men  Sydney  2000     S             Ato BOLDON   \n",
       "2        M          100M Men  Sydney  2000     B       Obadele THOMPSON   \n",
       "3        M  110M Hurdles Men  Sydney  2000     G           Anier GARCIA   \n",
       "4        M  110M Hurdles Men  Sydney  2000     S      Terrence TRAMMELL   \n",
       "..     ...               ...     ...   ...   ...                    ...   \n",
       "110      M         5000M Men     Rio  2016     S  Paul Kipkemoi CHELIMO   \n",
       "111      M         5000M Men     Rio  2016     B        Hagos GEBRHIWET   \n",
       "112      M      Marathon Men     Rio  2016     G  Eliud Kipchoge ROTICH   \n",
       "113      M      Marathon Men     Rio  2016     S          Feyisa LILESA   \n",
       "114      M      Marathon Men     Rio  2016     B             Galen RUPP   \n",
       "\n",
       "    Country     Time  \n",
       "0       USA     9.87  \n",
       "1       TTO     9.99  \n",
       "2       BAR    10.04  \n",
       "3       CUB       13  \n",
       "4       USA    13.16  \n",
       "..      ...      ...  \n",
       "110     USA  13:03.9  \n",
       "111     ETH  13:04.3  \n",
       "112     KEN  2:08:44  \n",
       "113     ETH  2:09:54  \n",
       "114     USA  2:10:05  \n",
       "\n",
       "[115 rows x 8 columns]"
      ]
     },
     "execution_count": 74,
     "metadata": {},
     "output_type": "execute_result"
    }
   ],
   "source": [
    "# creating a Dataframe\n",
    "df=pd.DataFrame(cvs)\n",
    "df"
   ]
  },
  {
   "cell_type": "code",
   "execution_count": 75,
   "id": "cadb77b1",
   "metadata": {},
   "outputs": [
    {
     "name": "stdout",
     "output_type": "stream",
     "text": [
      "    Gender             Event  venues  Year Medal                   Name  \\\n",
      "0        M          100M Men  Sydney  2000     G         Maurice GREENE   \n",
      "1        M          100M Men  Sydney  2000     S             Ato BOLDON   \n",
      "2        M          100M Men  Sydney  2000     B       Obadele THOMPSON   \n",
      "3        M  110M Hurdles Men  Sydney  2000     G           Anier GARCIA   \n",
      "4        M  110M Hurdles Men  Sydney  2000     S      Terrence TRAMMELL   \n",
      "..     ...               ...     ...   ...   ...                    ...   \n",
      "110      M         5000M Men     Rio  2016     S  Paul Kipkemoi CHELIMO   \n",
      "111      M         5000M Men     Rio  2016     B        Hagos GEBRHIWET   \n",
      "112      M      Marathon Men     Rio  2016     G  Eliud Kipchoge ROTICH   \n",
      "113      M      Marathon Men     Rio  2016     S          Feyisa LILESA   \n",
      "114      M      Marathon Men     Rio  2016     B             Galen RUPP   \n",
      "\n",
      "    Country     Time  \n",
      "0       USA     9.87  \n",
      "1       TTO     9.99  \n",
      "2       BAR    10.04  \n",
      "3       CUB       13  \n",
      "4       USA    13.16  \n",
      "..      ...      ...  \n",
      "110     USA  13:03.9  \n",
      "111     ETH  13:04.3  \n",
      "112     KEN  2:08:44  \n",
      "113     ETH  2:09:54  \n",
      "114     USA  2:10:05  \n",
      "\n",
      "[115 rows x 8 columns]\n"
     ]
    }
   ],
   "source": [
    "print(df)"
   ]
  },
  {
   "cell_type": "markdown",
   "id": "66046f23",
   "metadata": {},
   "source": [
    "## Binary Operation on Series"
   ]
  },
  {
   "cell_type": "code",
   "execution_count": 99,
   "id": "c73fd394",
   "metadata": {},
   "outputs": [
    {
     "name": "stdout",
     "output_type": "stream",
     "text": [
      "3     5\n",
      "6     2\n",
      "9     3\n",
      "12    7\n",
      "dtype: int64 \n",
      "\n",
      " a    1\n",
      "b    6\n",
      "d    4\n",
      "e    9\n",
      "dtype: int64\n"
     ]
    }
   ],
   "source": [
    "import pandas as pd  \n",
    "data = pd.Series([5, 2, 3,7], index=['3', '6', '9', '12'])\n",
    "data1 = pd.Series([1, 6, 4, 9], index=['a', 'b', 'd', 'e'])\n",
    "print(data, \"\\n\\n\", data1)"
   ]
  },
  {
   "cell_type": "code",
   "execution_count": 102,
   "id": "a310d1d9",
   "metadata": {},
   "outputs": [
    {
     "data": {
      "text/plain": [
       "12    7.0\n",
       "3     5.0\n",
       "6     2.0\n",
       "9     3.0\n",
       "a     1.0\n",
       "b     6.0\n",
       "d     4.0\n",
       "e     9.0\n",
       "dtype: float64"
      ]
     },
     "execution_count": 102,
     "metadata": {},
     "output_type": "execute_result"
    }
   ],
   "source": [
    "# adding two series using\n",
    "# .add\n",
    "data.add(data1, fill_value=0)"
   ]
  },
  {
   "cell_type": "code",
   "execution_count": 103,
   "id": "e8917c04",
   "metadata": {},
   "outputs": [
    {
     "data": {
      "text/plain": [
       "12    7.0\n",
       "3     5.0\n",
       "6     2.0\n",
       "9     3.0\n",
       "a     1.0\n",
       "b     6.0\n",
       "d     4.0\n",
       "e     9.0\n",
       "dtype: float64"
      ]
     },
     "execution_count": 103,
     "metadata": {},
     "output_type": "execute_result"
    }
   ],
   "source": [
    "data1.add(data, fill_value=0)"
   ]
  },
  {
   "cell_type": "code",
   "execution_count": 104,
   "id": "c0595dde",
   "metadata": {},
   "outputs": [
    {
     "data": {
      "text/plain": [
       "12    7.0\n",
       "3     5.0\n",
       "6     2.0\n",
       "9     3.0\n",
       "a    -1.0\n",
       "b    -6.0\n",
       "d    -4.0\n",
       "e    -9.0\n",
       "dtype: float64"
      ]
     },
     "execution_count": 104,
     "metadata": {},
     "output_type": "execute_result"
    }
   ],
   "source": [
    "# subtracting two series using\n",
    "# .sub\n",
    "data.sub(data1, fill_value=0)"
   ]
  },
  {
   "cell_type": "code",
   "execution_count": 105,
   "id": "0f29968c",
   "metadata": {},
   "outputs": [
    {
     "data": {
      "text/plain": [
       "12   -7.0\n",
       "3    -5.0\n",
       "6    -2.0\n",
       "9    -3.0\n",
       "a     1.0\n",
       "b     6.0\n",
       "d     4.0\n",
       "e     9.0\n",
       "dtype: float64"
      ]
     },
     "execution_count": 105,
     "metadata": {},
     "output_type": "execute_result"
    }
   ],
   "source": [
    "data1.sub(data, fill_value=0)"
   ]
  },
  {
   "cell_type": "markdown",
   "id": "ff3e1773",
   "metadata": {},
   "source": [
    "## Conversion Operation on Series"
   ]
  },
  {
   "cell_type": "code",
   "execution_count": 113,
   "id": "cba8820f",
   "metadata": {},
   "outputs": [
    {
     "name": "stdout",
     "output_type": "stream",
     "text": [
      "BEFORE CONVERSION\n",
      " Gender     object\n",
      "Event      object\n",
      "venues     object\n",
      "Year        int64\n",
      "Medal      object\n",
      "Name       object\n",
      "Country    object\n",
      "Time       object\n",
      "dtype: object \n",
      "\n",
      "AFTER CONVERSION\n",
      " Gender     object\n",
      "Event      object\n",
      "venues     object\n",
      "Year       object\n",
      "Medal      object\n",
      "Name       object\n",
      "Country    object\n",
      "Time       object\n",
      "dtype: object \n",
      "\n"
     ]
    }
   ],
   "source": [
    "# to convert a datatype of series\n",
    "\n",
    "import pandas as pd \n",
    "\n",
    "data = pd.read_csv(\"Olympics.csv\") \n",
    "    \n",
    "# dropping null value columns to avoid errors \n",
    "data.dropna(inplace = True) \n",
    "   \n",
    "# storing dtype before converting \n",
    "before = data.dtypes \n",
    "   \n",
    "# converting dtypes using astype \n",
    "data[\"Year\"]= data[\"Year\"].astype(str)\n",
    "# storing dtype after converting \n",
    "after = data.dtypes \n",
    "   \n",
    "# printing to compare \n",
    "print(\"BEFORE CONVERSION\\n\", before, \"\\n\") \n",
    "print(\"AFTER CONVERSION\\n\", after, \"\\n\") "
   ]
  },
  {
   "cell_type": "code",
   "execution_count": 117,
   "id": "2364299d",
   "metadata": {},
   "outputs": [
    {
     "name": "stdout",
     "output_type": "stream",
     "text": [
      "Data type before converting =  <class 'pandas.core.series.Series'>\n",
      "Data type after converting =  <class 'list'>\n"
     ]
    },
    {
     "data": {
      "text/plain": [
       "[2000,\n",
       " 2000,\n",
       " 2000,\n",
       " 2000,\n",
       " 2000,\n",
       " 2000,\n",
       " 2000,\n",
       " 2000,\n",
       " 2000,\n",
       " 2000,\n",
       " 2000,\n",
       " 2000,\n",
       " 2000,\n",
       " 2000,\n",
       " 2000,\n",
       " 2000,\n",
       " 2000,\n",
       " 2000,\n",
       " 2004,\n",
       " 2004,\n",
       " 2004,\n",
       " 2004,\n",
       " 2004,\n",
       " 2004,\n",
       " 2004,\n",
       " 2004,\n",
       " 2004,\n",
       " 2004,\n",
       " 2004,\n",
       " 2004,\n",
       " 2004,\n",
       " 2004,\n",
       " 2004,\n",
       " 2004,\n",
       " 2004,\n",
       " 2004,\n",
       " 2008,\n",
       " 2008,\n",
       " 2008,\n",
       " 2008,\n",
       " 2008,\n",
       " 2008,\n",
       " 2008,\n",
       " 2008,\n",
       " 2008,\n",
       " 2008,\n",
       " 2008,\n",
       " 2008,\n",
       " 2008,\n",
       " 2008,\n",
       " 2008,\n",
       " 2008,\n",
       " 2008,\n",
       " 2008,\n",
       " 2012,\n",
       " 2012,\n",
       " 2012,\n",
       " 2012,\n",
       " 2012,\n",
       " 2012,\n",
       " 2012,\n",
       " 2012,\n",
       " 2012,\n",
       " 2012,\n",
       " 2012,\n",
       " 2012,\n",
       " 2012,\n",
       " 2012,\n",
       " 2012,\n",
       " 2012,\n",
       " 2012,\n",
       " 2012,\n",
       " 2016,\n",
       " 2016,\n",
       " 2016,\n",
       " 2016,\n",
       " 2016,\n",
       " 2016,\n",
       " 2016,\n",
       " 2016,\n",
       " 2016,\n",
       " 2016,\n",
       " 2016,\n",
       " 2016,\n",
       " 2016,\n",
       " 2016,\n",
       " 2016,\n",
       " 2016,\n",
       " 2016,\n",
       " 2016]"
      ]
     },
     "execution_count": 117,
     "metadata": {},
     "output_type": "execute_result"
    }
   ],
   "source": [
    "# to convert a series into list\n",
    "\n",
    "# importing regex module \n",
    "import re \n",
    "import pandas as pd \n",
    "\n",
    "data = pd.read_csv(\"Olympics.csv\") \n",
    "    \n",
    "# dropping null value columns to avoid errors \n",
    "data.dropna(inplace = True) \n",
    "\n",
    "# storing dtype of a series(column) before converting \n",
    "dtype_before = type(data[\"Year\"]) \n",
    "\n",
    "# converting to list \n",
    "salary_list = data[\"Year\"].tolist()\n",
    "\n",
    "# storing dtype after operation \n",
    "dtype_after = type(salary_list) \n",
    "   \n",
    "# printing dtype \n",
    "print(\"Data type before converting = \",dtype_before) \n",
    "print(\"Data type after converting = \",dtype_after)    \n",
    "# displaying list \n",
    "salary_list "
   ]
  },
  {
   "cell_type": "code",
   "execution_count": null,
   "id": "dc485039",
   "metadata": {},
   "outputs": [],
   "source": []
  }
 ],
 "metadata": {
  "kernelspec": {
   "display_name": "Python 3",
   "language": "python",
   "name": "python3"
  },
  "language_info": {
   "codemirror_mode": {
    "name": "ipython",
    "version": 3
   },
   "file_extension": ".py",
   "mimetype": "text/x-python",
   "name": "python",
   "nbconvert_exporter": "python",
   "pygments_lexer": "ipython3",
   "version": "3.8.8"
  }
 },
 "nbformat": 4,
 "nbformat_minor": 5
}
