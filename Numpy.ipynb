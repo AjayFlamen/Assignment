{
 "cells": [
  {
   "cell_type": "markdown",
   "id": "77dc2582",
   "metadata": {},
   "source": [
    "# NumPy"
   ]
  },
  {
   "cell_type": "markdown",
   "id": "98827109",
   "metadata": {},
   "source": [
    "## 1-d Array"
   ]
  },
  {
   "cell_type": "code",
   "execution_count": 1,
   "id": "aba13027",
   "metadata": {},
   "outputs": [
    {
     "name": "stdout",
     "output_type": "stream",
     "text": [
      "[3 6 9]\n",
      "<class 'numpy.ndarray'>\n",
      "[0. 0. 0.]\n",
      "[1. 1. 1. 1. 1. 1.]\n",
      "[0 1 2 3 4 5 6 7 8 9]\n",
      "[2 3 4 5 6 7 8 9]\n",
      "[1 3 5 7 9]\n"
     ]
    }
   ],
   "source": [
    "import numpy as np\n",
    "arr=np.array([3,6,9])  \n",
    "print(arr)\n",
    "print(type(arr))\n",
    "a=np.zeros(3)\n",
    "b=np.ones(6)\n",
    "c=np.arange(10)\n",
    "d=np.arange(2,10)   \n",
    "e=np.arange(1,10,2) # incrementsw by 2\n",
    "print(a)\n",
    "print(b)\n",
    "print(c)\n",
    "print(d)\n",
    "print(e)"
   ]
  },
  {
   "cell_type": "markdown",
   "id": "066360b0",
   "metadata": {},
   "source": [
    "## N-d Array"
   ]
  },
  {
   "cell_type": "code",
   "execution_count": 4,
   "id": "68e6e080",
   "metadata": {},
   "outputs": [
    {
     "name": "stdout",
     "output_type": "stream",
     "text": [
      "[[1 2 3]\n",
      " [4 5 6]\n",
      " [7 8 9]]\n",
      "[['a' 'b' 'c']\n",
      " ['d' 'e' 'f']]\n",
      "[[0. 0. 0.]\n",
      " [0. 0. 0.]\n",
      " [0. 0. 0.]]\n",
      "[[1 1 1 1]\n",
      " [1 1 1 1]]\n",
      "3\n"
     ]
    }
   ],
   "source": [
    "import numpy as np\n",
    "# create a 2-d array\n",
    "arr1=np.array([[1,2,3],[4,5,6],[7,8,9]])  \n",
    "arr2=np.array([['a','b','c'],['d','e','f']])\n",
    "   \n",
    "#creates a 3X3 array with all zeros\n",
    "zeros=np.zeros((3,3))\n",
    "   \n",
    "#creates a 2X2 array with all ones\n",
    "ones=np.ones((2,4),dtype='int')  #specify the type with (dtype) parameter \n",
    "   \n",
    "print(arr1)\n",
    "print(arr2)\n",
    "print(zeros)\n",
    "print(ones)\n",
    "# ndim\n",
    "a=np.array([[[1, 2, 3], [4, 5, 6]], [[6, 4, 3], [1, 9, 6]]])\n",
    "print(a.ndim)"
   ]
  },
  {
   "cell_type": "markdown",
   "id": "e279e9e8",
   "metadata": {},
   "source": [
    "## operations"
   ]
  },
  {
   "cell_type": "code",
   "execution_count": 8,
   "id": "fe267284",
   "metadata": {},
   "outputs": [
    {
     "name": "stdout",
     "output_type": "stream",
     "text": [
      "[3 4 5 6]\n",
      "[7 3 4 3]\n",
      "[10  7  9  9]\n",
      "[-4  1  1  3]\n",
      "[0.42857143 1.33333333 1.25       2.        ]\n",
      "Multiplying 2 to all elements: [20 14 18 18]\n",
      "Subtracting one from all elements: [-5  0  0  2]\n"
     ]
    }
   ],
   "source": [
    "import numpy as aj\n",
    "arr1=aj.array([3,4,5,6])\n",
    "arr2=aj.array([7,3,4,3])\n",
    "c=arr1+arr2\n",
    "d=arr1-arr2\n",
    "e=arr1/arr2\n",
    "print(arr1)\n",
    "print(arr2)\n",
    "print(c) # addition\n",
    "print(d) # subtraction\n",
    "print(e) # division\n",
    "print(\"Multiplying 2 to all elements:\",c*2)\n",
    "print(\"Subtracting one from all elements:\",d-1)"
   ]
  },
  {
   "cell_type": "markdown",
   "id": "56b777b1",
   "metadata": {},
   "source": [
    "## Array Indexing"
   ]
  },
  {
   "cell_type": "code",
   "execution_count": 11,
   "id": "740a2bf3",
   "metadata": {},
   "outputs": [
    {
     "name": "stdout",
     "output_type": "stream",
     "text": [
      "3\n",
      "4\n",
      "['A' 'j' 'a' 'y' ' ' 'F' 'l' 'a' 'm' 'e' 'n']\n",
      "a\n",
      " \n",
      "9\n",
      "9\n"
     ]
    }
   ],
   "source": [
    "import numpy as np\n",
    "ar1= np.array([3,2,3,4])\n",
    "ar2= np.array(['A','j','a','y',' ','F','l','a','m','e','n'])\n",
    "ar3= np.array([[1,2,3,4,5], [6,7,8,9,10]])\n",
    "print(ar1[0]) # prints first element\n",
    "print(ar1[-1]) # prints last element\n",
    "print(ar2)\n",
    "print(ar2[2]) # prints third element\n",
    "print(ar2[4]) # prints 4th index, here its a blank space\n",
    "print(ar3[1][3]) #prints 9\n",
    "print(ar3[1,3]) # Or you can use this type "
   ]
  },
  {
   "cell_type": "markdown",
   "id": "34d73b64",
   "metadata": {},
   "source": [
    "## Array slicing"
   ]
  },
  {
   "cell_type": "code",
   "execution_count": 16,
   "id": "21430c6c",
   "metadata": {},
   "outputs": [
    {
     "name": "stdout",
     "output_type": "stream",
     "text": [
      "['A' 'j' 'a' 'y']\n",
      "['A' 'j' 'a']\n",
      "['F' 'l' 'a' 'm' 'e' 'n']\n",
      "['A' 'j' 'a' 'y']\n",
      "[3 5 7]\n",
      "[1 3 5 7 9]\n",
      "[7 8 9]\n",
      "[3 8]\n",
      "[[2 3 4]\n",
      " [7 8 9]]\n"
     ]
    }
   ],
   "source": [
    "import numpy as np\n",
    "arr=np.array(['A','s','j','s','a','s','y'])\n",
    "arr1=np.array(['A','j','a','y','F','l','a','m','e','n'])\n",
    "arr2=np.array([1,2,3,4,5,6,7,8,9])\n",
    "arr3=np.array([[1, 2, 3, 4, 5], [6, 7, 8, 9, 10]])\n",
    "   \n",
    "print(arr1[:4]) # default is taken as 0\n",
    "print(arr1[0:3])\n",
    "print(arr1[4:]) # taken till the end\n",
    "print(arr[::2])\n",
    "print(arr2[-7:-1:2])\n",
    "print(arr2[::2]) # step size as 2\n",
    "   \n",
    "# 2-D Slicing\n",
    "print(arr3[1,1:4])\n",
    "print(arr3[0:2, 2])\n",
    "print(arr3[0:2, 1:4])"
   ]
  },
  {
   "cell_type": "markdown",
   "id": "2781a19d",
   "metadata": {},
   "source": [
    "## Array shape and reshape"
   ]
  },
  {
   "cell_type": "code",
   "execution_count": 25,
   "id": "e9bdc8f9",
   "metadata": {},
   "outputs": [
    {
     "name": "stdout",
     "output_type": "stream",
     "text": [
      "(2, 4)\n",
      "(4,)\n",
      "No of dimensions of the array: 3\n",
      "Total no of elements of the array: 24\n",
      "Shape of the array: (3, 2, 4)\n",
      "[[ 1  2  3  4]\n",
      " [ 5  6  7  8]\n",
      " [ 9 10 11 12]]\n",
      "[['A' 'j' 'a' 'y' 'F']\n",
      " ['l' 'a' 'm' 'e' 'n']]\n",
      "[[[ 1  2]\n",
      "  [ 3  4]\n",
      "  [ 5  6]]\n",
      "\n",
      " [[ 7  8]\n",
      "  [ 9 10]\n",
      "  [11 12]]]\n"
     ]
    }
   ],
   "source": [
    "import numpy as np\n",
    "arr = np.array([[1, 2, 3, 4], [5, 6, 7, 8]])\n",
    "arr1= np.array([1,2,3,4])\n",
    "print(arr.shape)\n",
    "print(arr1.shape)\n",
    "array_example = np.array([[[0, 1, 2, 3],\n",
    "                            [4, 5, 6, 7]],\n",
    "\n",
    "                           [[0, 1, 2, 3],\n",
    "                            [4, 5, 6, 7]],\n",
    "\n",
    "                           [[0 ,1 ,2, 3],\n",
    "                            [4, 5, 6, 7]]])\n",
    "print('No of dimensions of the array:',array_example.ndim)\n",
    "print('Total no of elements of the array:',array_example.size) \n",
    "print('Shape of the array:',array_example.shape)  \n",
    "\n",
    "# 1-d to 2-d\n",
    "ar1 = np.array([1, 2, 3, 4, 5, 6, 7, 8, 9, 10, 11, 12])\n",
    "newar1 = ar1.reshape(3, 4)\n",
    "ar2 = np.array(['A','j','a','y','F','l','a','m','e','n'])\n",
    "newar2 = ar2.reshape(2,5)\n",
    "print(newar1)\n",
    "print(newar2)\n",
    "# 1-d to 3-d\n",
    "import numpy as np\n",
    "a = np.array([1, 2, 3, 4, 5, 6, 7, 8, 9, 10, 11, 12])\n",
    "newarr = a.reshape(2, 3, 2)\n",
    "print(newarr)\n",
    "# n-d to 1-d\n",
    "a1 = np.array([[1, 2, 3], [4, 5, 6]])\n",
    "newarr = a1.reshape(-1)\n",
    "print(newarr)"
   ]
  },
  {
   "cell_type": "markdown",
   "id": "3ca2f416",
   "metadata": {},
   "source": [
    "## **NumPy Sorting and Searching**"
   ]
  },
  {
   "cell_type": "code",
   "execution_count": 26,
   "id": "9023d72b",
   "metadata": {},
   "outputs": [
    {
     "name": "stdout",
     "output_type": "stream",
     "text": [
      "[0 1 2 3]\n",
      "['blue' 'green' 'red']\n",
      "[[2 3 4]\n",
      " [0 1 5]]\n",
      "(array([3, 5, 6], dtype=int64),)\n",
      "(array([1, 3, 5, 6], dtype=int64),)\n",
      "(array([0, 2, 4], dtype=int64),)\n",
      "1\n",
      "[0 3 2]\n"
     ]
    }
   ],
   "source": [
    "import numpy as np\n",
    "arr1 = np.array([3, 2, 0, 1])\n",
    "arr2 = np.array(['red','blue','green'])\n",
    "arr3 = np.array([[3, 2, 4], [5, 0, 1]])   \n",
    "print(np.sort(arr1))\n",
    "print(np.sort(arr2))\n",
    "print(np.sort(arr3))\n",
    "#where()\n",
    "arr1 = np.array([1, 2, 3, 4, 5, 4, 4])\n",
    "x = np.where(arr1 == 4)\n",
    "y = np.where(arr1%2 == 0)\n",
    "z = np.where(arr1%2 == 1)\n",
    "print(x)\n",
    "print(y)\n",
    "print(z)\n",
    "#searchsorted())\n",
    "arr1 = np.array([6, 12, 8, 7])\n",
    "x = np.searchsorted(arr1, 7)\n",
    "print(x)\n",
    "# Multiple values\n",
    "arr2 = np.array([1, 3, 5, 7])\n",
    "y = np.searchsorted(arr2, [1, 6, 4])\n",
    "print(y)"
   ]
  },
  {
   "cell_type": "markdown",
   "id": "c64f7006",
   "metadata": {},
   "source": [
    "## Mean Median Mode"
   ]
  },
  {
   "cell_type": "code",
   "execution_count": 32,
   "id": "a2ffa81a",
   "metadata": {},
   "outputs": [
    {
     "name": "stdout",
     "output_type": "stream",
     "text": [
      "1.0\n",
      "6.0\n",
      "86.5\n",
      "ModeResult(mode=array([86]), count=array([3]))\n",
      "0.9035079029052513\n",
      "37.84501153334721\n"
     ]
    }
   ],
   "source": [
    "import numpy as np\n",
    "# mean\n",
    "arr=np.array([1,1,1])\n",
    "x=np.mean(arr)\n",
    "print(x)\n",
    "# median for one value in the mddle\n",
    "speed = [1,3,3,6,7,8,9]\n",
    "x = np.median(speed)\n",
    "print(x)\n",
    "   \n",
    "# median for two values in the middle\n",
    "speed1 = [99,86,87,88,86,103,87,94,78,77,85,86]\n",
    "y = np.median(speed1)\n",
    "print(y)\n",
    "#mode\n",
    "from scipy import stats\n",
    "speed = [99,86,87,88,111,86,103,87,94,78,77,85,86]\n",
    "x = stats.mode(speed)\n",
    "print(x)\n",
    "\n",
    "#Standard deviation\n",
    "speed = [86,87,88,86,87,85,86]\n",
    "x = np.std(speed)\n",
    "print(x)\n",
    " \n",
    "speed1 = [32,111,138,28,59,77,97]\n",
    "y = np.std(speed1)\n",
    "print(y)"
   ]
  },
  {
   "cell_type": "code",
   "execution_count": null,
   "id": "001b16c9",
   "metadata": {},
   "outputs": [],
   "source": []
  }
 ],
 "metadata": {
  "kernelspec": {
   "display_name": "Python 3",
   "language": "python",
   "name": "python3"
  },
  "language_info": {
   "codemirror_mode": {
    "name": "ipython",
    "version": 3
   },
   "file_extension": ".py",
   "mimetype": "text/x-python",
   "name": "python",
   "nbconvert_exporter": "python",
   "pygments_lexer": "ipython3",
   "version": "3.8.8"
  }
 },
 "nbformat": 4,
 "nbformat_minor": 5
}
